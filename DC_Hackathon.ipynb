{
 "cells": [
  {
   "cell_type": "markdown",
   "metadata": {
    "id": "ufAGkstDrrL5"
   },
   "source": [
    "#PreProcessing\n"
   ]
  },
  {
   "cell_type": "code",
   "execution_count": null,
   "metadata": {},
   "outputs": [],
   "source": [
    "import numpy as np\n",
    "import pandas as pd"
   ]
  },
  {
   "cell_type": "code",
   "execution_count": 187,
   "metadata": {
    "colab": {
     "base_uri": "https://localhost:8080/"
    },
    "id": "J25QWrkVa9_P",
    "outputId": "779aa4f1-309b-44da-8031-7e4d8149112f"
   },
   "outputs": [
    {
     "name": "stdout",
     "output_type": "stream",
     "text": [
      "<class 'pandas.core.frame.DataFrame'>\n",
      "RangeIndex: 132193 entries, 0 to 132192\n",
      "Data columns (total 21 columns):\n",
      " #   Column         Non-Null Count   Dtype  \n",
      "---  ------         --------------   -----  \n",
      " 0   Location       132193 non-null  object \n",
      " 1   MinTemp        131613 non-null  float64\n",
      " 2   MaxTemp        131893 non-null  float64\n",
      " 3   Rainfall       130924 non-null  float64\n",
      " 4   Evaporation    75676 non-null   float64\n",
      " 5   Sunshine       69152 non-null   float64\n",
      " 6   WindGustDir    123577 non-null  object \n",
      " 7   WindGustSpeed  123632 non-null  float64\n",
      " 8   WindDir9am     122890 non-null  object \n",
      " 9   WindDir3pm     128698 non-null  object \n",
      " 10  WindSpeed9am   130948 non-null  float64\n",
      " 11  WindSpeed3pm   129754 non-null  float64\n",
      " 12  Humidity9am    130555 non-null  float64\n",
      " 13  Humidity3pm    128847 non-null  float64\n",
      " 14  Pressure9am    119154 non-null  float64\n",
      " 15  Pressure3pm    119180 non-null  float64\n",
      " 16  Cloud9am       82196 non-null   float64\n",
      " 17  Cloud3pm       78926 non-null   float64\n",
      " 18  Temp9am        131366 non-null  float64\n",
      " 19  Temp3pm        129669 non-null  float64\n",
      " 20  RainToday      130924 non-null  object \n",
      "dtypes: float64(16), object(5)\n",
      "memory usage: 21.2+ MB\n"
     ]
    }
   ],
   "source": [
    "df = pd.read_csv(\"C:/Users/arshm/Downloads/dc-hackathon-24-25/train_dataset.csv\")\n",
    "test_df = pd.read_csv(\"C:/Users/arshm/Downloads/dc-hackathon-24-25/test_dataset.csv\")\n",
    "\n",
    "train_df = df.iloc[:,:-1]\n",
    "train_df_target = df.iloc[:,-1:]\n",
    "train_df = train_df.drop('ID',axis=1)\n",
    "test_df = test_df.drop('ID',axis=1)\n",
    "train_df.info()"
   ]
  },
  {
   "cell_type": "code",
   "execution_count": 189,
   "metadata": {
    "colab": {
     "base_uri": "https://localhost:8080/",
     "height": 443
    },
    "id": "4klsz_LZg69g",
    "outputId": "7475c09d-f0fb-4a92-a7b2-119385187073"
   },
   "outputs": [],
   "source": [
    "angles = {'N': 0, 'NE': 45, 'E': 90, 'SE': 135, 'S': 180, 'SW': 225, 'W': 270, 'NW': 315}\n",
    "\n",
    "train_df['WindGustAngles'] = train_df['WindGustDir'].map(angles)\n",
    "train_df['WindGustDir_x'] = np.cos(np.radians(train_df['WindGustAngles']))\n",
    "train_df['WindGustDir_y'] = np.sin(np.radians(train_df['WindGustAngles']))\n",
    "train_df.drop(columns=['WindGustAngles'], inplace=True)\n",
    "train_df.drop(columns=['WindGustDir'], inplace=True)\n",
    "\n",
    "train_df['WindDir9am_angles'] = train_df['WindDir9am'].map(angles)\n",
    "train_df['WindDir9am_x'] = np.cos(np.radians(train_df['WindDir9am_angles']))\n",
    "train_df['WindDir9am_y'] = np.sin(np.radians(train_df['WindDir9am_angles']))\n",
    "train_df.drop(columns=['WindDir9am_angles'], inplace=True)\n",
    "train_df.drop(columns=['WindDir9am'], inplace=True)\n",
    "\n",
    "train_df['WindDir3pm_angles'] = train_df['WindDir3pm'].map(angles)\n",
    "train_df['WindDir3pm_x'] = np.cos(np.radians(train_df['WindDir3pm_angles']))\n",
    "train_df['WindDir3pm_y'] = np.sin(np.radians(train_df['WindDir3pm_angles']))\n",
    "train_df.drop(columns=['WindDir3pm_angles'], inplace=True)\n",
    "train_df.drop(columns=['WindDir3pm'], inplace=True)\n",
    "\n",
    "train_df['RainToday'] = train_df['RainToday'].map({'No': 0, 'Yes': 1})"
   ]
  },
  {
   "cell_type": "code",
   "execution_count": 191,
   "metadata": {
    "colab": {
     "base_uri": "https://localhost:8080/",
     "height": 443
    },
    "id": "4klsz_LZg69g",
    "outputId": "7475c09d-f0fb-4a92-a7b2-119385187073"
   },
   "outputs": [],
   "source": [
    "angles = {'N': 0, 'NE': 45, 'E': 90, 'SE': 135, 'S': 180, 'SW': 225, 'W': 270, 'NW': 315}\n",
    "\n",
    "test_df['WindGustAngles'] = test_df['WindGustDir'].map(angles)\n",
    "test_df['WindGustDir_x'] = np.cos(np.radians(test_df['WindGustAngles']))\n",
    "test_df['WindGustDir_y'] = np.sin(np.radians(test_df['WindGustAngles']))\n",
    "test_df.drop(columns=['WindGustAngles'], inplace=True)\n",
    "test_df.drop(columns=['WindGustDir'], inplace=True)\n",
    "\n",
    "test_df['WindDir9am_angles'] = test_df['WindDir9am'].map(angles)\n",
    "test_df['WindDir9am_x'] = np.cos(np.radians(test_df['WindDir9am_angles']))\n",
    "test_df['WindDir9am_y'] = np.sin(np.radians(test_df['WindDir9am_angles']))\n",
    "test_df.drop(columns=['WindDir9am_angles'], inplace=True)\n",
    "test_df.drop(columns=['WindDir9am'], inplace=True)\n",
    "\n",
    "test_df['WindDir3pm_angles'] = test_df['WindDir3pm'].map(angles)\n",
    "test_df['WindDir3pm_x'] = np.cos(np.radians(test_df['WindDir3pm_angles']))\n",
    "test_df['WindDir3pm_y'] = np.sin(np.radians(test_df['WindDir3pm_angles']))\n",
    "test_df.drop(columns=['WindDir3pm_angles'], inplace=True)\n",
    "test_df.drop(columns=['WindDir3pm'], inplace=True)\n",
    "\n",
    "test_df['RainToday'] = test_df['RainToday'].map({'No': 0, 'Yes': 1})"
   ]
  },
  {
   "cell_type": "code",
   "execution_count": 193,
   "metadata": {},
   "outputs": [],
   "source": [
    "from sklearn.feature_extraction.text import CountVectorizer\n",
    "from sklearn.preprocessing import MinMaxScaler\n",
    "from scipy.sparse import hstack\n",
    "from sklearn.preprocessing import StandardScaler\n",
    "\n",
    "vectorizer = CountVectorizer()\n",
    "X_text_train = vectorizer.fit_transform(train_df['Location'])\n",
    "X_text_test = vectorizer.transform(test_df['Location'])\n",
    "X_num_train = train_df.drop('Location',axis=1)\n",
    "X_num_test = test_df.drop('Location',axis=1)\n",
    "\n",
    "\n",
    "# scaler = MinMaxScaler()\n",
    "# X_num_train = scaler.fit_transform(X_num_train)\n",
    "# X_num_test = scaler.transform(X_num_test)\n",
    "\n",
    "train_df = hstack([X_text_train, X_num_train])\n",
    "test_df = hstack([X_text_test, X_num_test])"
   ]
  },
  {
   "cell_type": "code",
   "execution_count": 57,
   "metadata": {
    "colab": {
     "base_uri": "https://localhost:8080/"
    },
    "id": "fsSFoFxIhat4",
    "outputId": "f6a392b0-fa4e-4088-8459-ed9edad2344c"
   },
   "outputs": [],
   "source": [
    "# train_df_encoded = pd.get_dummies(train_df, columns=['Location'])\n",
    "# test_df_encoded = pd.get_dummies(test_df, columns=['Location'])"
   ]
  },
  {
   "cell_type": "code",
   "execution_count": 195,
   "metadata": {
    "colab": {
     "base_uri": "https://localhost:8080/"
    },
    "id": "ZExE0iMUbf96",
    "outputId": "db355c71-cfa3-4655-9be7-e663aa0bf7f4"
   },
   "outputs": [],
   "source": [
    "train_df = train_df_encoded.astype('float')\n",
    "test_df = test_df_encoded.astype('float')"
   ]
  },
  {
   "cell_type": "markdown",
   "metadata": {
    "id": "FulVFmNEgpGA"
   },
   "source": [
    "Tree-based models (e.g., Random Forest, Gradient Boosting) handle higher-dimensional data well and can determine feature importance effectively."
   ]
  },
  {
   "cell_type": "code",
   "execution_count": 197,
   "metadata": {},
   "outputs": [],
   "source": [
    "train_df = train_df.apply(lambda col: col.fillna(col.mode()[0]) if col.isna().any() else col)\n",
    "test_df = test_df.apply(lambda col: col.fillna(col.mode()[0]) if col.isna().any() else col)"
   ]
  },
  {
   "cell_type": "code",
   "execution_count": null,
   "metadata": {},
   "outputs": [],
   "source": [
    "from imblearn.over_sampling import SMOTE\n",
    "\n",
    "smote = SMOTE(random_state=42)\n",
    "train_df, train_df_target = smote.fit_resample(train_df, train_df_target)"
   ]
  },
  {
   "cell_type": "code",
   "execution_count": 199,
   "metadata": {},
   "outputs": [],
   "source": [
    "from imblearn.combine import SMOTEENN\n",
    "\n",
    "smote_enn = SMOTEENN(random_state=42)\n",
    "train_df, train_df_target = smote_enn.fit_resample(train_df, train_df_target)"
   ]
  },
  {
   "cell_type": "code",
   "execution_count": 167,
   "metadata": {},
   "outputs": [
    {
     "data": {
      "text/plain": [
       "RainTomorrow\n",
       "1               99185\n",
       "0               67197\n",
       "Name: count, dtype: int64"
      ]
     },
     "execution_count": 167,
     "metadata": {},
     "output_type": "execute_result"
    }
   ],
   "source": [
    "train_df_target.value_counts()"
   ]
  },
  {
   "cell_type": "code",
   "execution_count": 169,
   "metadata": {},
   "outputs": [
    {
     "data": {
      "text/plain": [
       "RainTomorrow   -0.391826\n",
       "dtype: float64"
      ]
     },
     "execution_count": 169,
     "metadata": {},
     "output_type": "execute_result"
    }
   ],
   "source": [
    "train_df_target.skew().sort_values(ascending=False)"
   ]
  },
  {
   "cell_type": "code",
   "execution_count": 213,
   "metadata": {},
   "outputs": [
    {
     "data": {
      "text/html": [
       "<div>\n",
       "<style scoped>\n",
       "    .dataframe tbody tr th:only-of-type {\n",
       "        vertical-align: middle;\n",
       "    }\n",
       "\n",
       "    .dataframe tbody tr th {\n",
       "        vertical-align: top;\n",
       "    }\n",
       "\n",
       "    .dataframe thead th {\n",
       "        text-align: right;\n",
       "    }\n",
       "</style>\n",
       "<table border=\"1\" class=\"dataframe\">\n",
       "  <thead>\n",
       "    <tr style=\"text-align: right;\">\n",
       "      <th></th>\n",
       "      <th>MinTemp</th>\n",
       "      <th>MaxTemp</th>\n",
       "      <th>Rainfall</th>\n",
       "      <th>Evaporation</th>\n",
       "      <th>Sunshine</th>\n",
       "      <th>WindGustSpeed</th>\n",
       "      <th>WindSpeed9am</th>\n",
       "      <th>WindSpeed3pm</th>\n",
       "      <th>Humidity9am</th>\n",
       "      <th>Humidity3pm</th>\n",
       "      <th>...</th>\n",
       "      <th>Location_Townsville</th>\n",
       "      <th>Location_Tuggeranong</th>\n",
       "      <th>Location_Uluru</th>\n",
       "      <th>Location_WaggaWagga</th>\n",
       "      <th>Location_Walpole</th>\n",
       "      <th>Location_Watsonia</th>\n",
       "      <th>Location_Williamtown</th>\n",
       "      <th>Location_Witchcliffe</th>\n",
       "      <th>Location_Wollongong</th>\n",
       "      <th>Location_Woomera</th>\n",
       "    </tr>\n",
       "  </thead>\n",
       "  <tbody>\n",
       "    <tr>\n",
       "      <th>0</th>\n",
       "      <td>19.4</td>\n",
       "      <td>25.2</td>\n",
       "      <td>0.0</td>\n",
       "      <td>4.0</td>\n",
       "      <td>0.0</td>\n",
       "      <td>54.0</td>\n",
       "      <td>24.0</td>\n",
       "      <td>37.0</td>\n",
       "      <td>64.0</td>\n",
       "      <td>71.0</td>\n",
       "      <td>...</td>\n",
       "      <td>0.0</td>\n",
       "      <td>0.0</td>\n",
       "      <td>0.0</td>\n",
       "      <td>0.0</td>\n",
       "      <td>0.0</td>\n",
       "      <td>0.0</td>\n",
       "      <td>0.0</td>\n",
       "      <td>0.0</td>\n",
       "      <td>1.0</td>\n",
       "      <td>0.0</td>\n",
       "    </tr>\n",
       "    <tr>\n",
       "      <th>1</th>\n",
       "      <td>8.3</td>\n",
       "      <td>22.1</td>\n",
       "      <td>0.0</td>\n",
       "      <td>3.2</td>\n",
       "      <td>9.8</td>\n",
       "      <td>26.0</td>\n",
       "      <td>7.0</td>\n",
       "      <td>11.0</td>\n",
       "      <td>75.0</td>\n",
       "      <td>53.0</td>\n",
       "      <td>...</td>\n",
       "      <td>0.0</td>\n",
       "      <td>0.0</td>\n",
       "      <td>0.0</td>\n",
       "      <td>0.0</td>\n",
       "      <td>0.0</td>\n",
       "      <td>0.0</td>\n",
       "      <td>0.0</td>\n",
       "      <td>0.0</td>\n",
       "      <td>0.0</td>\n",
       "      <td>0.0</td>\n",
       "    </tr>\n",
       "    <tr>\n",
       "      <th>2</th>\n",
       "      <td>2.8</td>\n",
       "      <td>18.1</td>\n",
       "      <td>0.2</td>\n",
       "      <td>4.0</td>\n",
       "      <td>0.0</td>\n",
       "      <td>11.0</td>\n",
       "      <td>4.0</td>\n",
       "      <td>6.0</td>\n",
       "      <td>97.0</td>\n",
       "      <td>46.0</td>\n",
       "      <td>...</td>\n",
       "      <td>0.0</td>\n",
       "      <td>0.0</td>\n",
       "      <td>0.0</td>\n",
       "      <td>0.0</td>\n",
       "      <td>0.0</td>\n",
       "      <td>0.0</td>\n",
       "      <td>0.0</td>\n",
       "      <td>0.0</td>\n",
       "      <td>0.0</td>\n",
       "      <td>0.0</td>\n",
       "    </tr>\n",
       "    <tr>\n",
       "      <th>3</th>\n",
       "      <td>4.0</td>\n",
       "      <td>20.6</td>\n",
       "      <td>0.6</td>\n",
       "      <td>4.0</td>\n",
       "      <td>0.0</td>\n",
       "      <td>31.0</td>\n",
       "      <td>7.0</td>\n",
       "      <td>20.0</td>\n",
       "      <td>59.0</td>\n",
       "      <td>54.0</td>\n",
       "      <td>...</td>\n",
       "      <td>0.0</td>\n",
       "      <td>0.0</td>\n",
       "      <td>0.0</td>\n",
       "      <td>0.0</td>\n",
       "      <td>0.0</td>\n",
       "      <td>0.0</td>\n",
       "      <td>0.0</td>\n",
       "      <td>0.0</td>\n",
       "      <td>0.0</td>\n",
       "      <td>0.0</td>\n",
       "    </tr>\n",
       "    <tr>\n",
       "      <th>4</th>\n",
       "      <td>5.9</td>\n",
       "      <td>23.0</td>\n",
       "      <td>0.0</td>\n",
       "      <td>4.0</td>\n",
       "      <td>0.0</td>\n",
       "      <td>35.0</td>\n",
       "      <td>7.0</td>\n",
       "      <td>20.0</td>\n",
       "      <td>66.0</td>\n",
       "      <td>28.0</td>\n",
       "      <td>...</td>\n",
       "      <td>0.0</td>\n",
       "      <td>0.0</td>\n",
       "      <td>0.0</td>\n",
       "      <td>1.0</td>\n",
       "      <td>0.0</td>\n",
       "      <td>0.0</td>\n",
       "      <td>0.0</td>\n",
       "      <td>0.0</td>\n",
       "      <td>0.0</td>\n",
       "      <td>0.0</td>\n",
       "    </tr>\n",
       "  </tbody>\n",
       "</table>\n",
       "<p>5 rows × 72 columns</p>\n",
       "</div>"
      ],
      "text/plain": [
       "   MinTemp  MaxTemp  Rainfall  Evaporation  Sunshine  WindGustSpeed  \\\n",
       "0     19.4     25.2       0.0          4.0       0.0           54.0   \n",
       "1      8.3     22.1       0.0          3.2       9.8           26.0   \n",
       "2      2.8     18.1       0.2          4.0       0.0           11.0   \n",
       "3      4.0     20.6       0.6          4.0       0.0           31.0   \n",
       "4      5.9     23.0       0.0          4.0       0.0           35.0   \n",
       "\n",
       "   WindSpeed9am  WindSpeed3pm  Humidity9am  Humidity3pm  ...  \\\n",
       "0          24.0          37.0         64.0         71.0  ...   \n",
       "1           7.0          11.0         75.0         53.0  ...   \n",
       "2           4.0           6.0         97.0         46.0  ...   \n",
       "3           7.0          20.0         59.0         54.0  ...   \n",
       "4           7.0          20.0         66.0         28.0  ...   \n",
       "\n",
       "   Location_Townsville  Location_Tuggeranong  Location_Uluru  \\\n",
       "0                  0.0                   0.0             0.0   \n",
       "1                  0.0                   0.0             0.0   \n",
       "2                  0.0                   0.0             0.0   \n",
       "3                  0.0                   0.0             0.0   \n",
       "4                  0.0                   0.0             0.0   \n",
       "\n",
       "   Location_WaggaWagga  Location_Walpole  Location_Watsonia  \\\n",
       "0                  0.0               0.0                0.0   \n",
       "1                  0.0               0.0                0.0   \n",
       "2                  0.0               0.0                0.0   \n",
       "3                  0.0               0.0                0.0   \n",
       "4                  1.0               0.0                0.0   \n",
       "\n",
       "   Location_Williamtown  Location_Witchcliffe  Location_Wollongong  \\\n",
       "0                   0.0                   0.0                  1.0   \n",
       "1                   0.0                   0.0                  0.0   \n",
       "2                   0.0                   0.0                  0.0   \n",
       "3                   0.0                   0.0                  0.0   \n",
       "4                   0.0                   0.0                  0.0   \n",
       "\n",
       "   Location_Woomera  \n",
       "0               0.0  \n",
       "1               0.0  \n",
       "2               0.0  \n",
       "3               0.0  \n",
       "4               0.0  \n",
       "\n",
       "[5 rows x 72 columns]"
      ]
     },
     "execution_count": 213,
     "metadata": {},
     "output_type": "execute_result"
    }
   ],
   "source": [
    "X = train_df\n",
    "y = train_df_target.values\n",
    "y = y.flatten()\n",
    "X.head()"
   ]
  },
  {
   "cell_type": "code",
   "execution_count": 205,
   "metadata": {},
   "outputs": [],
   "source": [
    "#GAUSSIAN NAIVE BAYES CLASSIFIER\n",
    "from sklearn.naive_bayes import GaussianNB\n",
    "\n",
    "gnb = GaussianNB()\n",
    "gnb.fit(X, y)\n",
    "\n",
    "# Make predictions\n",
    "y_pred = gnb.predict(test_df)"
   ]
  },
  {
   "cell_type": "code",
   "execution_count": 141,
   "metadata": {},
   "outputs": [],
   "source": [
    "#RANDOM FOREST\n",
    "from sklearn.ensemble import RandomForestClassifier\n",
    "\n",
    "classifier = RandomForestClassifier()\n",
    "classifier.fit(X,y)\n",
    "\n",
    "y_pred = classifier.predict(test_df)"
   ]
  },
  {
   "cell_type": "code",
   "execution_count": 179,
   "metadata": {},
   "outputs": [],
   "source": [
    "#DECISION TREE\n",
    "\n",
    "from sklearn.tree import DecisionTreeClassifier\n",
    "\n",
    "dt = DecisionTreeClassifier(criterion='gini', max_depth=None, random_state=42)\n",
    "dt.fit(X, y)\n",
    "y_pred = dt.predict(test_df)"
   ]
  },
  {
   "cell_type": "code",
   "execution_count": null,
   "metadata": {},
   "outputs": [],
   "source": [
    "#MULTINOMIAL NAIVE BAYES\n",
    "from sklearn.naive_bayes import MultinomialNB\n",
    "nb = MultinomialNB()\n",
    "nb.fit(X, y)\n",
    "\n",
    "y_pred = nb.predict(test_df)"
   ]
  },
  {
   "cell_type": "code",
   "execution_count": 207,
   "metadata": {},
   "outputs": [],
   "source": [
    "#final cell to save the submission file. \n",
    "test_df_1 = pd.read_csv(\"C:/Users/arshm/Downloads/dc-hackathon-24-25/test_dataset.csv\")\n",
    "submission_df = pd.DataFrame({\n",
    "    'ID': test_df_1['ID'],  # Extract the ID column from test data\n",
    "    'RainTomorrow': y_pred  # Predictions from the model\n",
    "})\n",
    "submission_df.to_csv('submission.csv', index=False)"
   ]
  },
  {
   "cell_type": "code",
   "execution_count": 1,
   "metadata": {},
   "outputs": [],
   "source": [
    "import torch"
   ]
  },
  {
   "cell_type": "code",
   "execution_count": 5,
   "metadata": {},
   "outputs": [
    {
     "data": {
      "image/png": "[encoded data removed]",
      "text/plain": [
       "<Figure size 640x480 with 1 Axes>"
      ]
     },
     "metadata": {},
     "output_type": "display_data"
    }
   ],
   "source": [
    "import matplotlib.pyplot as plt\n",
    "import numpy as np\n",
    "\n",
    "x1 = np.linspace(-3,-2,1000)\n",
    "x2 = np.linspace(-2,1,1000)\n",
    "x3 = np.linspace(1,2,1000)\n",
    "\n",
    "y1 = np.sin(8*np.pi*x1)\n",
    "y2 = np.sin(10*np.pi*x2)\n",
    "y3 = np.sin(8*np.pi*x3)\n",
    "\n",
    "plt.figure()\n",
    "plt.grid()\n",
    "plt.plot(x1,y1,color='blue')\n",
    "plt.plot(x2,y2,color='red')\n",
    "plt.plot(x3,y3,color='blue')\n",
    "plt.show()"
   ]
  },
  {
   "cell_type": "code",
   "execution_count": null,
   "metadata": {},
   "outputs": [],
   "source": []
  }
 ],
 "metadata": {
  "colab": {
   "provenance": []
  },
  "kernelspec": {
   "display_name": "base",
   "language": "python",
   "name": "python3"
  },
  "language_info": {
   "codemirror_mode": {
    "name": "ipython",
    "version": 3
   },
   "file_extension": ".py",
   "mimetype": "text/x-python",
   "name": "python",
   "nbconvert_exporter": "python",
   "pygments_lexer": "ipython3",
   "version": "3.12.7"
  }
 },
 "nbformat": 4,
 "nbformat_minor": 4
}
